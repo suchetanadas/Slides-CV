{
 "cells": [
  {
   "cell_type": "markdown",
   "metadata": {
    "cell_id": "9f80e334c0cf472eb076e1c4cf553332",
    "deepnote_cell_type": "code",
    "editable": true,
    "slideshow": {
     "slide_type": "slide"
    },
    "tags": []
   },
   "source": [
    "# Suchetana Das\n",
    "## \n",
    "\n",
    "### Contact Information\n",
    "- Email: suchetanad@mail.smu.edu\n",
    "- Phone: (123) 456-7890\n",
    "-  linkedin.com/in/suchetana-das\n"
   ]
  },
  {
   "cell_type": "markdown",
   "metadata": {
    "cell_id": "46f2b8f127164683afd7a5c2707a9d95",
    "deepnote_cell_type": "code",
    "editable": true,
    "slideshow": {
     "slide_type": "slide"
    },
    "tags": []
   },
   "source": [
    "\n",
    "### Work Experience\n",
    "- **Business Analyst**, HSBC (Aug,2020-Aug,2022)\n",
    "    - Conducted pricing review exercise for margins charged on Credit Protection, by assessing customer history of bad debt and turnover and the pandemic’s impact on the same.[Tool Used- SAS, Python]\n",
    "    - Delivered the bank’s counter party opportunity project for certain trade\n",
    "    products, by identifying prospects (using String Matching Algorithm) who have transacted with HSBC customers but are not using the bank’s services fortheir needs.[Tool Used- Python]\n",
    "     - Identified new business prospects for Hong Kong business operations using inward and        outward remittances data.[Tool Used - Alteryx, Python]\n",
    "     - Reconciled multiple data sources to create a golden source of commercial banking customer data.[Tool Used - Alteryx, Pyspark]\n",
    "    "
   ]
  },
  {
   "cell_type": "markdown",
   "metadata": {
    "cell_id": "a8d69429c9494dcda7e4ababbc750c03",
    "deepnote_cell_type": "code",
    "editable": true,
    "slideshow": {
     "slide_type": "slide"
    },
    "tags": []
   },
   "source": [
    "### Education\n",
    "- Master of Science in Economics, Souther Methodist University (2024)\n",
    "- Master of Science in Economics, Presidency University (2020)\n",
    "- Bachelor of Science in Economics, Presidency University (2018)"
   ]
  },
  {
   "cell_type": "markdown",
   "metadata": {
    "cell_id": "71c2a514111d44a598f617135d68cc2f",
    "deepnote_cell_type": "code",
    "editable": true,
    "slideshow": {
     "slide_type": "slide"
    },
    "tags": []
   },
   "source": [
    "### Softwares\n",
    " Proficient: MS Excel\n",
    " Intermediate: Python,STATA\n",
    " Beginner:SAS, Alteryx,R,\n",
    " Eviews,Power BI\n"
   ]
  }
 ],
 "metadata": {
  "deepnote_execution_queue": [],
  "deepnote_notebook_id": "e79f0f173aec4e2691d0a3e9c39645ad",
  "kernelspec": {
   "display_name": "Python 3 (ipykernel)",
   "language": "python",
   "name": "python3"
  },
  "language_info": {
   "codemirror_mode": {
    "name": "ipython",
    "version": 3
   },
   "file_extension": ".py",
   "mimetype": "text/x-python",
   "name": "python",
   "nbconvert_exporter": "python",
   "pygments_lexer": "ipython3",
   "version": "3.11.7"
  },
  "toc": {
   "base_numbering": 1
  }
 },
 "nbformat": 4,
 "nbformat_minor": 4
}
